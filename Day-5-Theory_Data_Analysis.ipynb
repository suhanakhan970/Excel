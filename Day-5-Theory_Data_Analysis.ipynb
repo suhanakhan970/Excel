{
 "cells": [
  {
   "cell_type": "markdown",
   "id": "8868d716",
   "metadata": {},
   "source": [
    "<div style=\"background-color: #002147; padding: 10px; text-align: center; color: white; font-size: 32px; font-family: 'Arial', sans-serif;\">\n",
    "    EXCEL<br>\n",
    "    <h3 style=\"text-align: center; color: white; font-size: 15px; font-family: 'Arial', sans-serif;\"></h3>\n",
    "</div>"
   ]
  },
  {
   "cell_type": "markdown",
   "id": "8f923a71",
   "metadata": {},
   "source": [
    "<div style=\"background-color: #002147; padding: 10px; text-align: center; color: white; font-size: 32px; font-family: 'Arial', sans-serif;\">\n",
    "    Basic Methods of Data Analysis in Excel<br>\n",
    "    <h3 style=\"text-align: center; color: white; font-size: 15px; font-family: 'Arial', sans-serif;\"></h3>\n",
    "</div>"
   ]
  },
  {
   "cell_type": "markdown",
   "id": "6ce1afd4",
   "metadata": {},
   "source": [
    "Excel provide commands, functions and tools that make your data analysis tasks easy. You can avoid many time consuming and/or complex calculations using Excel\n",
    "\n",
    "Excel is one of the most powerful tools for data analysis, allowing you to process, manipulate, and visualize large datasets efficiently. Whether you're analyzing sales figures, financial reports, or any other type of data, knowing how to perform data analysis in Excel can help you make informed decisions quickly.\n",
    "\n",
    "nalyze data in Excel, including using built-in tools like pivot tables, charts, and formulas to extract meaningful insights."
   ]
  },
  {
   "cell_type": "markdown",
   "id": "c6351d1e",
   "metadata": {},
   "source": [
    "<div style=\"background-color: lightgreen; color: black; padding: 4px;\">\n",
    "    <h2>1. Charts and Visualization\n",
    "</h2> </div>"
   ]
  },
  {
   "cell_type": "markdown",
   "id": "b9f1df66",
   "metadata": {},
   "source": [
    "Any set of information may be graphically represented in a chart. A chart is a graphic representation of data that employs symbols to represent the data, such as bars in a bar chart or lines in a line chart. Data Analysis Excel offers several different chart types available for you to choose from, or you can use the Excel Recommended Charts option to look at charts specifically made for your data and choose one of those."
   ]
  },
  {
   "cell_type": "markdown",
   "metadata": {},
   "source": [
    "<div style=\"background-color: lightgreen; color: black; padding: 4px;\">\n",
    "    <h2>2. CONDITIONAL FORMATTING \n",
    "</h2> </div>"
   ]
  },
  {
   "cell_type": "markdown",
   "metadata": {},
   "source": [
    "Patterns and trends in your data may be highlighted with the help of conditional formatting. To use it in Data Analysis Excel, write rules that determine the format of cells based on their values. In Excel for Windows, conditional formatting can be applied to a set of cells, an Excel table, and even a PivotTable report."
   ]
  },
  {
   "cell_type": "markdown",
   "metadata": {},
   "source": [
    "<div style=\"background-color: lightgreen; color: black; padding: 4px;\">\n",
    "    <h2>3. SORTING DATA\n",
    "</h2> </div>"
   ]
  },
  {
   "cell_type": "markdown",
   "id": "cbbca06d",
   "metadata": {},
   "source": [
    "Data analysis Excel requires sorting the data. A list of names may be arranged alphabetically, a list of sales numbers can be arranged from highest to lowest, or rows can be sorted by colors or icons. Sorting data makes it easier to immediately view and comprehend your data, organize and locate the facts you need, and ultimately help you make better decisions. Both columns and rows can be used to sort. You'll utilize column sorts for the majority of your sorting. By text, numbers, dates, and times, a custom list, format, including cell color, font color, or icon set, you may sort data in one or more columns."
   ]
  },
  {
   "cell_type": "markdown",
   "metadata": {},
   "source": [
    "<div style=\"background-color: lightgreen; color: black; padding: 4px;\">\n",
    "    <h2>4. Filtering Data\n",
    "</h2> </div>"
   ]
  },
  {
   "cell_type": "markdown",
   "id": "af85ebf8",
   "metadata": {},
   "source": [
    "You may use filtering to pull information from a given Range or table that satisfies the specified criteria in data analysis excel. This is a fast method of just showing the data you require. Data in a Range, table, or PivotTable may be filtered. You may use Selected Values to filter data. You may adjust your filtering options in the Custom AutoFilter dialogue box that displays when you click a Filter option or the Custom Filter link that is located at the end of the list of Filter options."
   ]
  },
  {
   "cell_type": "markdown",
   "id": "62aab001",
   "metadata": {},
   "source": [
    "<div style=\"background-color: #002147; padding: 10px; text-align: center; color: white; font-size: 32px; font-family: 'Arial', sans-serif;\">\n",
    "  Essential Excel Functions for Data Analysis<br>\n",
    "    <h3 style=\"text-align: center; color: white; font-size: 15px; font-family: 'Arial', sans-serif;\"></h3>\n",
    "</div>"
   ]
  },
  {
   "cell_type": "markdown",
   "id": "25fa8e73",
   "metadata": {},
   "source": [
    "<div style=\"background-color: lightgreen; color: black; padding: 4px;\">\n",
    "    <h2>LEN\n",
    "\n",
    "</h2> </div>"
   ]
  },
  {
   "cell_type": "markdown",
   "id": "5d1cd0ef",
   "metadata": {},
   "source": []
  },
  {
   "cell_type": "markdown",
   "id": "f537686f",
   "metadata": {},
   "source": [
    "=LEN quickly returns the character count in a given cell. The =LEN formula may be used to calculate the number of characters needed in a cell to distinguish between two different kinds of product Stock Keeping Units, as seen in the example above. When trying to discern between different Unique Identifiers, which might occasionally be lengthy and out of order, LEN is very crucial."
   ]
  },
  {
   "cell_type": "markdown",
   "id": "23b46bd3",
   "metadata": {},
   "source": [
    "<div style=\"background-color: lightgreen; color: black; padding: 4px;\">\n",
    "    <h2>TRIM\n",
    "\n",
    "</h2> </div>"
   ]
  },
  {
   "cell_type": "markdown",
   "id": "e74e35fd",
   "metadata": {},
   "source": []
  },
  {
   "cell_type": "markdown",
   "id": "8de2ef0d",
   "metadata": {},
   "source": [
    "=TRIM function will remove all spaces from a cell, with the exception of single spaces between words. The most frequent application of this function is to get rid of trailing spaces. When content is copied verbatim from another source or when users insert spaces at the end of the text, this is normal."
   ]
  },
  {
   "cell_type": "markdown",
   "id": "7c14650f",
   "metadata": {},
   "source": [
    "<div style=\"background-color: lightgreen; color: black; padding: 4px;\">\n",
    "    <h2>UPPER\n",
    "\n",
    "</h2> </div>"
   ]
  },
  {
   "cell_type": "markdown",
   "id": "8f1dd8a0",
   "metadata": {},
   "source": [
    "The Excel Text function \"UPPER Function\" will change the text to all capital letters (UPPERCASE). As a result, the function changes all of the characters in a text string input to upper case.\n",
    "\n",
    "=UPPER(Text)\n",
    "\n"
   ]
  },
  {
   "cell_type": "markdown",
   "id": "0079be4f",
   "metadata": {},
   "source": [
    "<div style=\"background-color: lightgreen; color: black; padding: 4px;\">\n",
    "    <h2>PROPER\n",
    "\n",
    "</h2> </div>"
   ]
  },
  {
   "cell_type": "markdown",
   "id": "ce34c8b7",
   "metadata": {},
   "source": [
    "Under Excel Text functions, the PROPER Function is listed. Any subsequent letters of text that come after a character other than a letter will also be capitalized by PROPER.\n",
    "\n",
    "=PROPER(Text)"
   ]
  },
  {
   "cell_type": "markdown",
   "id": "0dd54a29",
   "metadata": {},
   "source": [
    "<div style=\"background-color: lightgreen; color: black; padding: 4px;\">\n",
    "    <h2>COUNTIF\n",
    "\n",
    "</h2> </div>"
   ]
  },
  {
   "cell_type": "markdown",
   "id": "b89cd48a",
   "metadata": {},
   "source": [
    "Excel has a built-in function called COUNTIF that counts the given cells. The COUNTIF function can be used in both straightforward and sophisticated applications in data analysis excel. The fundamental application of counting particular numbers and words is covered in this.\n",
    "\n"
   ]
  },
  {
   "cell_type": "markdown",
   "id": "a9cb547a",
   "metadata": {},
   "source": [
    "<div style=\"background-color: lightgreen; color: black; padding: 4px;\">\n",
    "    <h2>AVERAGE IF\n",
    "\n",
    "</h2> </div>"
   ]
  },
  {
   "cell_type": "markdown",
   "id": "025e01d8",
   "metadata": {},
   "source": [
    "An Excel built-in function called AVERAGEIF determines the average of a range depending on a true or false condition.\n",
    "\n",
    "=AVERAGEIF(range, criteria, [average_range])\n",
    "\n",
    "Range: The size of the cell range to count.\n",
    "Criteria: The standards by which cells are selected for counting.\n",
    "Average Range: The range in which the function computes the average is known as the average range. But the average range is not required."
   ]
  },
  {
   "cell_type": "markdown",
   "id": "a177965b",
   "metadata": {},
   "source": [
    "<div style=\"background-color: lightgreen; color: black; padding: 4px;\">\n",
    "    <h2>SUMIF\n",
    "\n",
    "</h2> </div>"
   ]
  },
  {
   "cell_type": "markdown",
   "id": "62513d79",
   "metadata": {},
   "source": [
    "A built-in Excel function called SUMIF determines if a condition is true or false before adding the values in a range"
   ]
  },
  {
   "cell_type": "markdown",
   "id": "316cfd35",
   "metadata": {},
   "source": [
    "<div style=\"background-color: lightgreen; color: black; padding: 4px;\">\n",
    "    <h2>VLOOKUP\n",
    "\n",
    "</h2> </div>"
   ]
  },
  {
   "cell_type": "markdown",
   "id": "dfcb3232",
   "metadata": {},
   "source": [
    "VLOOKUP is a built-in Excel function that permits searching across several columns.\n",
    "\n",
    "=VLOOKUP(lookup_value, table_array, col_index_num, [range_lookup])\n",
    "\n",
    "Lookup_value: Choose the cell that will be used to input the search criteria.\n",
    "Table_array: The whole table range, which includes each and every cell.\n",
    "Col_index_num: The information being searched for. The column's number, starting from the left, is the input.\n",
    "Range_lookup: FALSE if text (0), TRUE if numbers (1)."
   ]
  },
  {
   "cell_type": "markdown",
   "id": "afe2f5a5",
   "metadata": {},
   "source": []
  },
  {
   "cell_type": "markdown",
   "id": "4268c53d",
   "metadata": {},
   "source": [
    "<div style=\"background-color: lightgreen; color: black; padding: 4px;\">\n",
    "    <h2>PIVOT TABLE\n",
    "\n",
    "</h2> </div>"
   ]
  },
  {
   "cell_type": "markdown",
   "id": "f3cf3d97",
   "metadata": {},
   "source": []
  },
  {
   "cell_type": "markdown",
   "id": "8543a398",
   "metadata": {},
   "source": [
    "In order to create the required report, a pivot table is a statistics tool that condenses and reorganizes specific columns and rows of data in a spreadsheet or database table. The utility simply \"pivots\" or rotates the data to examine it from various angles rather than altering the spreadsheet or database itself."
   ]
  },
  {
   "cell_type": "markdown",
   "id": "ae31271e",
   "metadata": {},
   "source": [
    "<div style=\"background-color: lightblue; color: white; padding: 10px; text-align: center;\">\n",
    "    <h1>_________________________________END________________________________</h1></div>"
   ]
  },
  {
   "cell_type": "markdown",
   "id": "bb0baa23",
   "metadata": {},
   "source": [
    "<div style=\"background-color: #002147; color: #fff; padding: 30px; text-align: center;\">\n",
    "    <h1>THANK YOU!\n",
    "        \n",
    "</h1> </div>"
   ]
  },
  {
   "cell_type": "markdown",
   "id": "d4f1ea93",
   "metadata": {},
   "source": []
  }
 ],
 "metadata": {
  "language_info": {
   "name": "python"
  }
 },
 "nbformat": 4,
 "nbformat_minor": 5
}
