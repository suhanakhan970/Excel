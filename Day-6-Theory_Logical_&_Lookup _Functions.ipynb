{
 "cells": [
  {
   "cell_type": "markdown",
   "id": "7ebac44c",
   "metadata": {},
   "source": [
    "<div style=\"background-color: #002147; padding: 10px; text-align: center; color: white; font-size: 32px; font-family: 'Arial', sans-serif;\">\n",
    "    EXCEL<br>\n",
    "    <h3 style=\"text-align: center; color: white; font-size: 15px; font-family: 'Arial', sans-serif;\"></h3>\n",
    "</div>"
   ]
  },
  {
   "cell_type": "markdown",
   "id": "e084b6c4",
   "metadata": {},
   "source": [
    "<div style=\"background-color: #002147; padding: 10px; text-align: center; color: white; font-size: 32px; font-family: 'Arial', sans-serif;\">\n",
    "    LOGICAL FUNCTION OF EXCEL<br>\n",
    "    <h3 style=\"text-align: center; color: white; font-size: 15px; font-family: 'Arial', sans-serif;\"></h3>\n",
    "</div>"
   ]
  },
  {
   "cell_type": "markdown",
   "id": "33601b7b",
   "metadata": {},
   "source": [
    "<div style=\"background-color: lightgreen; color: black; padding: 4px;\">\n",
    "    <h2>IF\n",
    "</h2> </div>"
   ]
  },
  {
   "cell_type": "markdown",
   "id": "f50db3c2",
   "metadata": {},
   "source": [
    "=IF(A1>10, \"Yes\", \"No\")\n",
    "\n",
    "Returns \"Yes\" if A1 is greater than 10,\n",
    "otherwise \"No\""
   ]
  },
  {
   "cell_type": "markdown",
   "id": "08930a23",
   "metadata": {},
   "source": [
    "<div style=\"background-color: lightgreen; color: black; padding: 4px;\">\n",
    "    <h2>IF ERROR\n",
    "</h2> </div>"
   ]
  },
  {
   "cell_type": "markdown",
   "id": "f0032a5e",
   "metadata": {},
   "source": [
    "=IFERROR(A1/B1, \"Error!\")\n",
    "\n",
    "Returns \"Error!\" if there is a division error"
   ]
  },
  {
   "cell_type": "markdown",
   "id": "8144c409",
   "metadata": {},
   "source": [
    "<div style=\"background-color: lightgreen; color: black; padding: 4px;\">\n",
    "    <h2>NESTED if\n",
    "</h2> </div>"
   ]
  },
  {
   "cell_type": "markdown",
   "id": "2dd40f90",
   "metadata": {},
   "source": [
    "=IF(A1>10, \"High\", IF(A1>5, \"Medium\",\"low\"))\n",
    "\n",
    "Nested IF for multiple conditions \n",
    "\n"
   ]
  },
  {
   "cell_type": "markdown",
   "id": "c690985c",
   "metadata": {},
   "source": [
    "<div style=\"background-color: lightgreen; color: black; padding: 4px;\">\n",
    "    <h2>AND\n",
    "</h2> </div>"
   ]
  },
  {
   "cell_type": "markdown",
   "id": "4b4e0443",
   "metadata": {},
   "source": [
    "=AND(A1>10, B1<5)\n",
    "\n",
    "Returns TRUE if both conditions are met "
   ]
  },
  {
   "cell_type": "markdown",
   "id": "8564a86c",
   "metadata": {},
   "source": [
    "<div style=\"background-color: lightgreen; color: black; padding: 4px;\">\n",
    "    <h2>OR\n",
    "</h2> </div>"
   ]
  },
  {
   "cell_type": "markdown",
   "id": "82f3ac98",
   "metadata": {},
   "source": [
    "=OR(A1>10, B1<5) \n",
    "Returns TRUE if at least one condition is met \n",
    "\n",
    "\n"
   ]
  },
  {
   "cell_type": "markdown",
   "id": "e146e6a2",
   "metadata": {},
   "source": [
    "<div style=\"background-color: lightgreen; color: black; padding: 4px;\">\n",
    "    <h2>NOT\n",
    "</h2> </div>"
   ]
  },
  {
   "cell_type": "markdown",
   "id": "a4df1c54",
   "metadata": {},
   "source": [
    "=NOT(A1>10) \n",
    "\n",
    "Returns the opposite of the condition \n"
   ]
  },
  {
   "cell_type": "markdown",
   "id": "247f4b00",
   "metadata": {},
   "source": [
    "<div style=\"background-color: #002147; padding: 10px; text-align: center; color: white; font-size: 32px; font-family: 'Arial', sans-serif;\">\n",
    "    LOOKUP FUNCTION OF EXCEL<br>\n",
    "    <h3 style=\"text-align: center; color: white; font-size: 15px; font-family: 'Arial', sans-serif;\"></h3>\n",
    "</div>"
   ]
  },
  {
   "cell_type": "markdown",
   "id": "530f2093",
   "metadata": {},
   "source": [
    "<div style=\"background-color: lightgreen; color: black; padding: 4px;\">\n",
    "    <h2>=VLOOKUP\n",
    "</h2> </div>"
   ]
  },
  {
   "cell_type": "markdown",
   "id": "49ac3d9f",
   "metadata": {},
   "source": [
    "=VLOOKUP(1001, A2:D10, 2, FALSE)\n",
    "\n",
    "Finds a value in the first column and returns a value \n",
    "from another column \n",
    "\n"
   ]
  },
  {
   "cell_type": "markdown",
   "id": "c8f6cb93",
   "metadata": {},
   "source": [
    "<div style=\"background-color: lightgreen; color: black; padding: 4px;\">\n",
    "    <h2>XLOOKUP\n",
    "</h2> </div>"
   ]
  },
  {
   "cell_type": "markdown",
   "id": "828fc216",
   "metadata": {},
   "source": [
    "=XLOOKUP(1001, A2:A10,B2:B10)\n",
    "Newer, more flexible replacement for VLOOKUP \n",
    "\n",
    "\n"
   ]
  },
  {
   "cell_type": "markdown",
   "id": "33bab8f0",
   "metadata": {},
   "source": [
    "<div style=\"background-color: lightblue; color: white; padding: 10px; text-align: center;\">\n",
    "    <h1>_________________________________END________________________________</h1></div>"
   ]
  },
  {
   "cell_type": "markdown",
   "id": "972f9217",
   "metadata": {},
   "source": [
    "<div style=\"background-color: #002147; color: #fff; padding: 30px; text-align: center;\">\n",
    "    <h1>THANK YOU!\n",
    "        \n",
    "</h1> </div>"
   ]
  },
  {
   "cell_type": "markdown",
   "id": "b496052c",
   "metadata": {},
   "source": []
  }
 ],
 "metadata": {
  "kernelspec": {
   "display_name": "base",
   "language": "python",
   "name": "python3"
  },
  "language_info": {
   "name": "python",
   "version": "3.12.4"
  }
 },
 "nbformat": 4,
 "nbformat_minor": 5
}
