{
 "cells": [
  {
   "cell_type": "markdown",
   "id": "b3cabc85",
   "metadata": {},
   "source": [
    "<div style=\"background-color: #002147; padding: 10px; text-align: center; color: white; font-size: 32px; font-family: 'Arial', sans-serif;\">\n",
    "    EXCEL<br>\n",
    "    <h3 style=\"text-align: center; color: white; font-size: 15px; font-family: 'Arial', sans-serif;\"></h3>\n",
    "</div>"
   ]
  },
  {
   "cell_type": "markdown",
   "id": "6f0663c3",
   "metadata": {},
   "source": []
  },
  {
   "cell_type": "markdown",
   "id": "aea8388f",
   "metadata": {},
   "source": [
    "<div style=\"background-color:  #002147; color: White; padding: 4px;\">\n",
    "    <h2> BASIC FORMULAS OF EXCEL\n",
    "</h2> </div>\n"
   ]
  },
  {
   "cell_type": "markdown",
   "id": "18455c1d",
   "metadata": {},
   "source": [
    "<div style=\"background-color: lightgreen; color: black; padding: 4px;\">\n",
    "    <h2>1. CONCATE()\n",
    "</h2> </div>"
   ]
  },
  {
   "cell_type": "markdown",
   "id": "8bcd16ba",
   "metadata": {},
   "source": [
    "The CONCAT() Excel function joins or merges multiple strings or cells with strings into one. For example, if we want to join the age and sex of the athletes, we will use CONCAT(). The function will automatically convert a numeric value from age to string and combine it. \n",
    "\n",
    "“24”+“M” = “24M”"
   ]
  },
  {
   "cell_type": "markdown",
   "id": "938a3f46",
   "metadata": {},
   "source": [
    "<div style=\"background-color: lightgreen; color: black; padding: 4px;\">\n",
    "    <h2>2. TRIM()\n",
    "</h2> </div>\n"
   ]
  },
  {
   "cell_type": "markdown",
   "id": "08c21465",
   "metadata": {},
   "source": [
    "The TRIM function removes all spaces from a text string except for single spaces between words.\n",
    "Trim(\"  suhana\") = suhana\n"
   ]
  },
  {
   "cell_type": "markdown",
   "id": "4126220b",
   "metadata": {},
   "source": [
    "<div style=\"background-color: lightgreen; color: black; padding: 4px;\">\n",
    "    <h2>3. TEXTJOIN()\n",
    "</h2> </div>"
   ]
  },
  {
   "cell_type": "markdown",
   "id": "25403edc",
   "metadata": {},
   "source": [
    "The TEXTJOIN function combines the text from multiple ranges and/or strings, and includes a delimiter you specify between each text value that is combined\n",
    "\n",
    " TEXTJOIN(“, “, TRUE, B2:B4)\n",
    " ex suhana khan=suhana,khan"
   ]
  },
  {
   "cell_type": "markdown",
   "id": "c1f27a15",
   "metadata": {},
   "source": [
    "<div style=\"background-color: lightgreen; color: black; padding: 4px;\">\n",
    "    <h2>4. LEN()\n",
    "</h2> </div>"
   ]
  },
  {
   "cell_type": "markdown",
   "id": "1182ce88",
   "metadata": {},
   "source": []
  },
  {
   "cell_type": "markdown",
   "id": "d3d22586",
   "metadata": {},
   "source": [
    "Returns the number of character in cells\n",
    "LEN(B57) ex suhana=6"
   ]
  },
  {
   "cell_type": "markdown",
   "id": "3b4b9593",
   "metadata": {},
   "source": []
  },
  {
   "cell_type": "markdown",
   "id": "b73f3c04",
   "metadata": {},
   "source": [
    "<div style=\"background-color:  #002147; color: White; padding: 4px;\">\n",
    "    <h2> Logical & Conditional FORMULAS OF EXCEL\n",
    "</h2> </div>\n"
   ]
  },
  {
   "cell_type": "markdown",
   "id": "10b40b91",
   "metadata": {},
   "source": []
  },
  {
   "cell_type": "markdown",
   "id": "b441c6dc",
   "metadata": {},
   "source": [
    "<div style=\"background-color: lightgreen; color: black; padding: 4px;\">\n",
    "    <h2>1. IF()\n",
    "</h2> </div>"
   ]
  },
  {
   "cell_type": "markdown",
   "id": "d15a9368",
   "metadata": {},
   "source": []
  },
  {
   "cell_type": "markdown",
   "id": "edec221b",
   "metadata": {},
   "source": [
    "Returns \"YES\" if A1 is greater than 10,otherwise \"NO\"\n",
    "\n",
    "=IF (A1>10,\"Yes\",\"No\")"
   ]
  },
  {
   "cell_type": "markdown",
   "id": "f60c78ca",
   "metadata": {},
   "source": []
  },
  {
   "cell_type": "markdown",
   "id": "334eeaeb",
   "metadata": {},
   "source": [
    "<div style=\"background-color: lightgreen; color: black; padding: 4px;\">\n",
    "    <h2>2. IFERROR()\n",
    "</h2> </div>"
   ]
  },
  {
   "cell_type": "markdown",
   "id": "e3c7b7aa",
   "metadata": {},
   "source": []
  },
  {
   "cell_type": "markdown",
   "id": "570cecae",
   "metadata": {},
   "source": [
    "Returns\"ERROR!\" if there is a divission errror\n",
    "\n",
    "=IFERROR(A1/B1,\"Error!\")"
   ]
  },
  {
   "cell_type": "markdown",
   "id": "ae013e7f",
   "metadata": {},
   "source": []
  },
  {
   "cell_type": "markdown",
   "id": "e3fb043f",
   "metadata": {},
   "source": [
    "<div style=\"background-color: lightgreen; color: black; padding: 4px;\">\n",
    "    <h2>3. NESTEDIF()\n",
    "</h2> </div>"
   ]
  },
  {
   "cell_type": "markdown",
   "id": "05bd154a",
   "metadata": {},
   "source": []
  },
  {
   "cell_type": "markdown",
   "id": "51f07f63",
   "metadata": {},
   "source": [
    "NESTED IF for multiple conditions\n",
    "\n",
    "=IF(A1>10,\"High\",IF(A1>5,\"Medium\",\"Low\"))"
   ]
  },
  {
   "cell_type": "markdown",
   "id": "8f37c223",
   "metadata": {},
   "source": []
  },
  {
   "cell_type": "markdown",
   "id": "0267e644",
   "metadata": {},
   "source": [
    "<div style=\"background-color: lightgreen; color: black; padding: 4px;\">\n",
    "    <h2>4. AND()\n",
    "</h2> </div>"
   ]
  },
  {
   "cell_type": "markdown",
   "id": "8d92fa9e",
   "metadata": {},
   "source": []
  },
  {
   "cell_type": "markdown",
   "id": "1add614a",
   "metadata": {},
   "source": [
    "Returns TRUEE if both conditions are met\n",
    "=AND(A1>10,B1<5)"
   ]
  },
  {
   "cell_type": "markdown",
   "id": "9297f2fd",
   "metadata": {},
   "source": []
  },
  {
   "cell_type": "markdown",
   "id": "8e1a5743",
   "metadata": {},
   "source": [
    "<div style=\"background-color: lightgreen; color: black; padding: 4px;\">\n",
    "    <h2>5. OR()\n",
    "</h2> </div>"
   ]
  },
  {
   "cell_type": "markdown",
   "id": "f8b98e82",
   "metadata": {},
   "source": [
    "Returns TRUE if at least one condition is met\n",
    "=OR(A1>10,B1<5>)"
   ]
  },
  {
   "cell_type": "markdown",
   "id": "e4ac4ad3",
   "metadata": {},
   "source": []
  },
  {
   "cell_type": "markdown",
   "id": "9861594c",
   "metadata": {},
   "source": [
    "<div style=\"background-color: lightgreen; color: black; padding: 4px;\">\n",
    "    <h2>6. NOT()\n",
    "</h2> </div>"
   ]
  },
  {
   "cell_type": "markdown",
   "id": "2d244e18",
   "metadata": {},
   "source": []
  },
  {
   "cell_type": "markdown",
   "id": "03ff1620",
   "metadata": {},
   "source": [
    "Returns the opposite of the condition\n",
    "=NOT(A1>10)"
   ]
  },
  {
   "cell_type": "markdown",
   "id": "fb25bf51",
   "metadata": {},
   "source": [
    "<div style=\"background-color: lightblue; color: white; padding: 10px; text-align: center;\">\n",
    "    <h1>_________________________________END________________________________</h1></div>"
   ]
  },
  {
   "cell_type": "markdown",
   "id": "755c21ac",
   "metadata": {},
   "source": [
    "<div style=\"background-color: #002147; color: #fff; padding: 30px; text-align: center;\">\n",
    "    <h1>THANK YOU!\n",
    "        \n",
    "</h1> </div>"
   ]
  },
  {
   "cell_type": "markdown",
   "id": "387ea2a4",
   "metadata": {},
   "source": []
  }
 ],
 "metadata": {
  "language_info": {
   "name": "python"
  }
 },
 "nbformat": 4,
 "nbformat_minor": 5
}
