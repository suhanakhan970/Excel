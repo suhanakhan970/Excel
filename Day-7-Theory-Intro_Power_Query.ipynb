{
 "cells": [
  {
   "cell_type": "markdown",
   "id": "79bdc476",
   "metadata": {},
   "source": [
    "<div style=\"background-color: #002147; padding: 10px; text-align: center; color: white; font-size: 32px; font-family: 'Arial', sans-serif;\">\n",
    "    POWER QUERY<br>\n",
    "    <h3 style=\"text-align: center; color: white; font-size: 15px; font-family: 'Arial', sans-serif;\"></h3>\n",
    "</div>"
   ]
  },
  {
   "cell_type": "markdown",
   "id": "221eec86",
   "metadata": {},
   "source": []
  },
  {
   "cell_type": "markdown",
   "id": "4c4c4f0a",
   "metadata": {},
   "source": [
    "<div style=\"background-color: lightgreen; color: black; padding: 4px;\">\n",
    "    <h2>What is Power Query\n",
    "</h2> </div>"
   ]
  },
  {
   "cell_type": "markdown",
   "id": "52390ce2",
   "metadata": {},
   "source": [
    "Power Query, also known as Get & Transform, is a multi-purpose tool in Microsoft Excel and Power BI programs that allows you to import data from a wide variety of sources and transform that data to meet your specific needs.\n",
    "\n",
    "It was first introduced as an add-in for Excel 2010 and later became a native feature in Excel 2016 and subsequent versions. Power Query (PQ) provides a user-friendly interface for connecting to various data sources, shaping, merging and cleaning your data, and then loading it into Excel for in-depth analysis and polished reporting in the form of pivot tables, charts, dashboards, and more."
   ]
  },
  {
   "cell_type": "markdown",
   "id": "207c3bea",
   "metadata": {},
   "source": [
    "<div style=\"background-color: lightgreen; color: black; padding: 4px;\">\n",
    "    <h2>What can Power Query be used for?\n",
    "</h2> </div>"
   ]
  },
  {
   "cell_type": "markdown",
   "id": "98a8cc3a",
   "metadata": {},
   "source": [
    "Power Query is a versatile tool with a multitude of applications. Here are some common uses:\n",
    "\n",
    "Data extraction. Connect to various data sources, including databases, Excel files, text files, and online services.\n",
    "\n",
    "Data transformation. A wide range of data transformation functions are available to reshape your data into a more suitable structure for analysis, such as filtering, sorting, grouping, merging, splitting columns into multiple fields, creating calculated columns, and more.\n",
    "\n",
    "Data cleansing. Data quality is crucial for accurate analysis. PQ provides tools to identify and correct errors, remove duplicates, trim extra spaces, fill missing values, and standardize formats, ensuring that your data is clean and reliable.\n",
    "\n",
    "Combining data. PQ makes it simple to combine and merge data from different locations into a single cohesive dataset, facilitating comprehensive analysis.\n",
    "\n",
    "Automating workflows. Power Query records every step you take, creating a query that can be easily modified or reused later. This is especially useful when dealing with recurring data sources or when you want to keep your analysis up to date with minimal effort. Also, you can refresh your query to get the latest data from the source at any time, on demand or on a schedule.\n",
    "Now that we've established what Power Query is and its potential applications, let's see how you can get this useful feature in your Excel.\n",
    "\n",
    "\n",
    "\n"
   ]
  },
  {
   "cell_type": "markdown",
   "id": "0dff313f",
   "metadata": {},
   "source": []
  },
  {
   "cell_type": "markdown",
   "id": "3940c39e",
   "metadata": {},
   "source": [
    "<div style=\"background-color: lightgreen; color: black; padding: 4px;\">\n",
    "    <h2>How to use Power Query in Excel\n",
    "</h2> </div>"
   ]
  },
  {
   "cell_type": "markdown",
   "id": "27da9aa3",
   "metadata": {},
   "source": [
    "This section provides an overview of how to use Power Query for data analysis. You will learn the main steps involved in importing, transforming, combining, and exporting data. These steps are:\n",
    "\n",
    "Get data – connect to different data sources and load them into Power Query.\n",
    "\n",
    "Transform – clean and reshape the data to tailor it to your specific requirements.\n",
    "\n",
    "Combine – merge data from various sources into a single, organized dataset.\n",
    "\n",
    "Write formulas – craft custom formulas using the Power Query formula language.\n",
    "\n",
    "Load – export your final data table to Excel and refresh it manually or automatically.\n"
   ]
  },
  {
   "cell_type": "markdown",
   "id": "e1050ff4",
   "metadata": {},
   "source": [
    "<div style=\"background-color: lightgreen; color: black; padding: 4px;\">\n",
    "    <h2>Get data\n",
    "</h2> </div>"
   ]
  },
  {
   "cell_type": "markdown",
   "id": "70645c04",
   "metadata": {},
   "source": [
    "To start working with your data in Power Query, you need to import it from a source. PQ supports many different data sources such as files, databases, online services, and more.\n",
    "\n",
    "The three most common sources can be accessed directly from the Excel ribbon - on the Data tab, in the Get & Transform Data group. These primary sources are:\n",
    "\n",
    "From Text/CSV - use this option if your data is stored in a text or CSV file.\n",
    "From Web - ideal for importing data directly from a web page.\n",
    "From Table/Range - suitable for data that's already in Excel, organized within a table or a range.\n",
    "If you need to import data from other sources, click the Get Data button, and then explore further options:\n",
    "\n",
    "From File - import various file types like Excel worksheets, TXT/CSV, XML, JSON, and PDF.\n",
    "From Database - connect to databases such as SQL Server or Microsoft Access.\n",
    "From Azure - access data from Azure SQL Database, Azure Data Lake Storage, and other Azure services.\n",
    "From Power Platforms - import data from Microsoft Power BI services.\n",
    "From Other Sources - this category offers even more options, including data from Excel tables/ranges, from the web, OData feeds, ODBC, OLEDB, and others.\n"
   ]
  },
  {
   "cell_type": "markdown",
   "id": "937296f3",
   "metadata": {},
   "source": [
    "<div style=\"background-color: lightgreen; color: black; padding: 4px;\">\n",
    "    <h2>TRANSFORM\n",
    "</h2> </div>"
   ]
  },
  {
   "cell_type": "markdown",
   "id": "412d736c",
   "metadata": {},
   "source": [
    "Once your data is loaded into Power Query, you're in the driver's seat to refine it according to your needs. All data transformations are done within a separate interface called the Power Query Editor, where you have four main tabs to explore. You can think of data transformation as sculpting. You start with a raw material that you shape into a form that suits your purpose and that allows you to create appealing reports and dashboards.\n",
    "\n",
    "Here are some common transformations you can perform using Power Query:\n",
    "\n",
    "Sort and filter. Arrange data in ascending or descending order and filter out unwanted rows to focus on the information that matters most.\n",
    "Add, remove or duplicate columns. Modify your dataset by adding new columns, removing unnecessary ones, or duplicating existing columns when needed.\n",
    "Change data type. You can specify the type of data in each column, such as text, number, date, time, etc.\n",
    "Transpose row to column and vice versa. Change the orientation of your data, transforming rows into columns for better analysis and visualization.\n",
    "Remove duplicate rows. You can eliminate any rows that have identical values in all columns to reduce the size of your data and to avoid double-counting\n",
    "Trim and clean. Remove leading or trailing spaces from your text values, or any extra characters that are not part of the data to improve the quality and readability of your dataset.\n",
    "Extract values. Extract parts of your text values based on a delimiter, position, or pattern. For example, you can extract the first name from a full name column, or the domain name from an email address column.\n",
    "Split column. Divide a column into multiple columns based on a delimiter or a specific pattern. For example, you can split a date column into year, month, and day columns.\n",
    "Replace or remove values or errors. You can replace any values or errors in your data with another value, such as a blank, zero, or custom value. You can also delete any rows that contain errors or missing values.\n",
    "Add conditional column. Create new columns based on predefined conditions, allowing for dynamic data categorization. For example, you can create a column that assigns a category based on a numerical range.\n",
    "Add column from example. Utilize examples to guide Power Query in creating new columns with desired data patterns. PQ will try to infer the logic behind your examples and apply it to the rest of the rows.\n",
    "Group and summarize data. Aggregate data by groups, calculate sums, averages, or other statistical measures for deeper insights.\n"
   ]
  },
  {
   "cell_type": "markdown",
   "id": "56a9e982",
   "metadata": {},
   "source": []
  },
  {
   "cell_type": "markdown",
   "id": "f0f9d6fd",
   "metadata": {},
   "source": []
  },
  {
   "cell_type": "markdown",
   "id": "19ad9b40",
   "metadata": {},
   "source": []
  },
  {
   "cell_type": "markdown",
   "id": "eb5a30d1",
   "metadata": {},
   "source": []
  },
  {
   "cell_type": "markdown",
   "id": "abb10b4b",
   "metadata": {},
   "source": []
  },
  {
   "cell_type": "markdown",
   "id": "6ca61509",
   "metadata": {},
   "source": []
  }
 ],
 "metadata": {
  "language_info": {
   "name": "python"
  }
 },
 "nbformat": 4,
 "nbformat_minor": 5
}
