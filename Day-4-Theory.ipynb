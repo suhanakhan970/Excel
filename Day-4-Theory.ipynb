{
 "cells": [
  {
   "cell_type": "markdown",
   "id": "beeb4ae6",
   "metadata": {},
   "source": [
    "<div style=\"background-color: #002147; padding: 10px; text-align: center; color: white; font-size: 32px; font-family: 'Arial', sans-serif;\">\n",
    "    EXCEL<br>\n",
    "    <h3 style=\"text-align: center; color: white; font-size: 15px; font-family: 'Arial', sans-serif;\"></h3>\n",
    "</div>"
   ]
  },
  {
   "cell_type": "markdown",
   "id": "f0fa9ef4",
   "metadata": {},
   "source": []
  },
  {
   "cell_type": "markdown",
   "id": "164db295",
   "metadata": {},
   "source": [
    "<div style=\"background-color:  #002147; color: White; padding: 4px;\">\n",
    "    <h2>DATA ANALYSIS\n",
    "</h2> </div>\n"
   ]
  },
  {
   "cell_type": "markdown",
   "id": "07644588",
   "metadata": {},
   "source": [
    "Excel is one of the most powerful tools for data analysis, allowing you to process, manipulate, and visualize large datasets efficiently. Whether you're analyzing sales figures, financial reports, or any other type of data, knowing how to perform data analysis in Excel can help you make informed decisions quickly.\n",
    "\n",
    "In this guide, we will walk you through the essential steps to analyze data in Excel, including using built-in tools like pivot tables, charts, and formulas to extract meaningful insights."
   ]
  },
  {
   "cell_type": "markdown",
   "id": "98762dc7",
   "metadata": {},
   "source": []
  },
  {
   "cell_type": "markdown",
   "id": "4c4196d2",
   "metadata": {},
   "source": [
    "<div style=\"background-color: lightgreen; color: black; padding: 4px;\">\n",
    "    <h2>Preparing Your Dataset\n",
    "</h2> </div>"
   ]
  },
  {
   "cell_type": "markdown",
   "metadata": {},
   "source": [
    "Before getting into analysis, it’s essential to clean and organize your dataset to ensure accuracy."
   ]
  },
  {
   "cell_type": "markdown",
   "id": "b0d80609",
   "metadata": {},
   "source": [
    "<div style=\"background-color: lightgreen; color: black; padding: 4px;\">\n",
    "    <h2>How to Clean Data in Excel\n",
    "\n",
    "</h2> </div>"
   ]
  },
  {
   "cell_type": "markdown",
   "id": "52547099",
   "metadata": {},
   "source": [
    "\n",
    "1.Remove Duplicates:Use Data > Remove Duplicates to eliminate redundancy.\n",
    "2.Use TRIM and CLEAN Functions:TRIM removes unnecessary spaces.\n",
    "CLEAN removes non-printable characters.\n",
    "\n",
    "3.Sort and Structure Data:  Convert your dataset into an Excel Table (Insert > Table) for better organization."
   ]
  },
  {
   "cell_type": "markdown",
   "id": "9c0e7b34",
   "metadata": {},
   "source": []
  },
  {
   "cell_type": "markdown",
   "id": "6603f3fb",
   "metadata": {},
   "source": []
  },
  {
   "cell_type": "markdown",
   "id": "351c5a64",
   "metadata": {},
   "source": []
  },
  {
   "cell_type": "markdown",
   "id": "de233da0",
   "metadata": {},
   "source": []
  }
 ],
 "metadata": {
  "language_info": {
   "name": "python"
  }
 },
 "nbformat": 4,
 "nbformat_minor": 5
}
