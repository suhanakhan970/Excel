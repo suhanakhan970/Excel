{
 "cells": [
  {
   "cell_type": "markdown",
   "id": "d3c4c2b1",
   "metadata": {},
   "source": [
    "<div style=\"background-color: #002147; padding: 10px; text-align: center; color: white; font-size: 32px; font-family: 'Arial', sans-serif;\">\n",
    "    EXCEL<br>\n",
    "    <h3 style=\"text-align: center; color: white; font-size: 15px; font-family: 'Arial', sans-serif;\"></h3>\n",
    "</div>"
   ]
  },
  {
   "cell_type": "markdown",
   "id": "f0cec0c9",
   "metadata": {},
   "source": []
  },
  {
   "cell_type": "markdown",
   "id": "c95a568e",
   "metadata": {},
   "source": [
    "<div style=\"background-color:  #002147; color: White; padding: 4px;\">\n",
    "    <h2> TEXT FORMULAS OF EXCEL\n",
    "</h2> </div>\n"
   ]
  },
  {
   "cell_type": "markdown",
   "id": "984da9b8",
   "metadata": {},
   "source": []
  },
  {
   "cell_type": "markdown",
   "id": "7af6d8b9",
   "metadata": {},
   "source": [
    "<div style=\"background-color: lightgreen; color: black; padding: 4px;\">\n",
    "    <h2>1. LEFT()\n",
    "</h2> </div>"
   ]
  },
  {
   "cell_type": "markdown",
   "id": "7886757d",
   "metadata": {},
   "source": []
  },
  {
   "cell_type": "markdown",
   "id": "ddda2fc9",
   "metadata": {},
   "source": [
    "Extracts the first 3 characters from a text\n",
    "\n",
    "ex.LEFT(A1, 3)"
   ]
  },
  {
   "cell_type": "markdown",
   "id": "56e22697",
   "metadata": {},
   "source": []
  },
  {
   "cell_type": "markdown",
   "id": "a74e5bf9",
   "metadata": {},
   "source": [
    "<div style=\"background-color: lightgreen; color: black; padding: 4px;\">\n",
    "    <h2>2. RIGHT()\n",
    "</h2> </div>"
   ]
  },
  {
   "cell_type": "markdown",
   "id": "b5124c74",
   "metadata": {},
   "source": []
  },
  {
   "cell_type": "markdown",
   "id": "ab3e56a0",
   "metadata": {},
   "source": [
    "Extracts the last 3 characters from a text\n",
    "\n",
    "ex.RIGHT(A1,3)"
   ]
  },
  {
   "cell_type": "markdown",
   "id": "447b0304",
   "metadata": {},
   "source": []
  },
  {
   "cell_type": "markdown",
   "id": "143eb05e",
   "metadata": {},
   "source": [
    "<div style=\"background-color: lightgreen; color: black; padding: 4px;\">\n",
    "    <h2>3. MID()\n",
    "</h2> </div>"
   ]
  },
  {
   "cell_type": "markdown",
   "id": "052ade25",
   "metadata": {},
   "source": []
  },
  {
   "cell_type": "markdown",
   "id": "b2db5956",
   "metadata": {},
   "source": [
    "Extracts 4 characters starting from the 2nd character\n",
    "\n",
    "ex.D(A1, 2, 4)"
   ]
  },
  {
   "cell_type": "markdown",
   "id": "af42a1cb",
   "metadata": {},
   "source": []
  },
  {
   "cell_type": "markdown",
   "id": "22346d56",
   "metadata": {},
   "source": [
    "<div style=\"background-color: lightgreen; color: black; padding: 4px;\">\n",
    "    <h2>4. FIND()\n",
    "</h2> </div>"
   ]
  },
  {
   "cell_type": "markdown",
   "id": "5e6c02b3",
   "metadata": {},
   "source": []
  },
  {
   "cell_type": "markdown",
   "id": "d18429a3",
   "metadata": {},
   "source": [
    "Finds the position of \"a\" in a text\n",
    "\n",
    "ex.FIND(\"a\", A1)"
   ]
  },
  {
   "cell_type": "markdown",
   "id": "4e40baf3",
   "metadata": {},
   "source": []
  },
  {
   "cell_type": "markdown",
   "id": "2283de50",
   "metadata": {},
   "source": [
    "<div style=\"background-color: lightgreen; color: black; padding: 4px;\">\n",
    "    <h2>5. SEARCH()\n",
    "</h2> </div>"
   ]
  },
  {
   "cell_type": "markdown",
   "id": "9fcd7861",
   "metadata": {},
   "source": []
  },
  {
   "cell_type": "markdown",
   "id": "c64e5a99",
   "metadata": {},
   "source": [
    "Case-insensitive search for \"apple\"\n",
    "\n",
    "ex.(\"apple\", A1)"
   ]
  },
  {
   "cell_type": "markdown",
   "id": "382614c1",
   "metadata": {},
   "source": [
    "<div style=\"background-color: lightgreen; color: black; padding: 4px;\">\n",
    "    <h2>6. SUBSTITUTE()\n",
    "</h2> </div>"
   ]
  },
  {
   "cell_type": "markdown",
   "id": "7a032df6",
   "metadata": {},
   "source": [
    " Replaces \"old\" with \"new\"\n",
    "\n",
    "ex.(A1, \"old\", \"new\") R"
   ]
  },
  {
   "cell_type": "markdown",
   "id": "13f31441",
   "metadata": {},
   "source": [
    "<div style=\"background-color: lightgreen; color: black; padding: 4px;\">\n",
    "    <h2>7. PROPER()\n",
    "</h2> </div>"
   ]
  },
  {
   "cell_type": "markdown",
   "id": "1fb880f2",
   "metadata": {},
   "source": [
    "Capitalizes the first letter of each word\n",
    "\n",
    "ex.PROPER(A1)"
   ]
  },
  {
   "cell_type": "markdown",
   "id": "8949581b",
   "metadata": {},
   "source": []
  },
  {
   "cell_type": "markdown",
   "id": "36fe2d70",
   "metadata": {},
   "source": [
    "<div style=\"background-color: lightgreen; color: black; padding: 4px;\">\n",
    "    <h2>8. UPPER()\n",
    "</h2> </div>"
   ]
  },
  {
   "cell_type": "markdown",
   "id": "bdfd9d38",
   "metadata": {},
   "source": []
  },
  {
   "cell_type": "markdown",
   "id": "23e044b7",
   "metadata": {},
   "source": [
    "Converts text to uppercase\n",
    "ex.=UPPER(A1)"
   ]
  },
  {
   "cell_type": "markdown",
   "id": "8fe109c0",
   "metadata": {},
   "source": [
    "<div style=\"background-color: lightgreen; color: black; padding: 4px;\">\n",
    "    <h2>9. LOWER()\n",
    "</h2> </div>"
   ]
  },
  {
   "cell_type": "markdown",
   "id": "f4beffea",
   "metadata": {},
   "source": []
  },
  {
   "cell_type": "markdown",
   "metadata": {},
   "source": [
    "Converts text to lowercase\n",
    "\n",
    "EX.LOWER(A1)"
   ]
  },
  {
   "cell_type": "markdown",
   "id": "f994bd75",
   "metadata": {},
   "source": []
  },
  {
   "cell_type": "markdown",
   "id": "a8a4162d",
   "metadata": {},
   "source": [
    "<div style=\"background-color:  #002147; color: White; padding: 4px;\">\n",
    "    <h2> DATE & TIME  FORMULAS OF EXCEL\n",
    "</h2> </div>\n"
   ]
  },
  {
   "cell_type": "markdown",
   "id": "63860a4c",
   "metadata": {},
   "source": []
  },
  {
   "cell_type": "markdown",
   "id": "625f9adf",
   "metadata": {},
   "source": [
    "<div style=\"background-color: lightgreen; color: black; padding: 4px;\">\n",
    "    <h2>1. TODAY()\n",
    "</h2> </div>"
   ]
  },
  {
   "cell_type": "markdown",
   "id": "d9ae9984",
   "metadata": {},
   "source": []
  },
  {
   "cell_type": "markdown",
   "id": "08f36d29",
   "metadata": {},
   "source": [
    "Returns the current date\n",
    "\n",
    "ex.=TODAY()"
   ]
  },
  {
   "cell_type": "markdown",
   "id": "93c13708",
   "metadata": {},
   "source": [
    "<div style=\"background-color: lightgreen; color: black; padding: 4px;\">\n",
    "    <h2>2. NOW()\n",
    "</h2> </div>"
   ]
  },
  {
   "cell_type": "markdown",
   "metadata": {},
   "source": [
    "Returns the current date and time\n",
    "ex.=NOW()"
   ]
  },
  {
   "cell_type": "markdown",
   "id": "afe12159",
   "metadata": {},
   "source": []
  },
  {
   "cell_type": "markdown",
   "metadata": {},
   "source": [
    "<div style=\"background-color: lightgreen; color: black; padding: 4px;\">\n",
    "    <h2>3. YEAR()\n",
    "</h2> </div>"
   ]
  },
  {
   "cell_type": "markdown",
   "id": "6ddd67a0",
   "metadata": {},
   "source": [
    "Extracts the year from a date\n",
    "\n",
    "ex.=YEAR(A1)"
   ]
  },
  {
   "cell_type": "markdown",
   "id": "d0f9ecef",
   "metadata": {},
   "source": []
  },
  {
   "cell_type": "markdown",
   "id": "bf85db0a",
   "metadata": {},
   "source": [
    "<div style=\"background-color: lightgreen; color: black; padding: 4px;\">\n",
    "    <h2>4. MONTH()\n",
    "</h2> </div>"
   ]
  },
  {
   "cell_type": "markdown",
   "metadata": {},
   "source": []
  },
  {
   "cell_type": "markdown",
   "id": "e9fb47f3",
   "metadata": {},
   "source": [
    "Extracts the month from a date\n",
    "ex.=MONTH(A1)"
   ]
  },
  {
   "cell_type": "markdown",
   "id": "2082f9af",
   "metadata": {},
   "source": [
    "<div style=\"background-color: lightgreen; color: black; padding: 4px;\">\n",
    "    <h2>5. DAY()\n",
    "</h2> </div>"
   ]
  },
  {
   "cell_type": "markdown",
   "id": "2dc78c93",
   "metadata": {},
   "source": []
  },
  {
   "cell_type": "markdown",
   "id": "4fb0e00a",
   "metadata": {},
   "source": [
    "Extracts the day from a date\n",
    "EX.=DAY(A1)"
   ]
  },
  {
   "cell_type": "markdown",
   "id": "78c9cbf6",
   "metadata": {},
   "source": []
  },
  {
   "cell_type": "markdown",
   "id": "f0d60b19",
   "metadata": {},
   "source": [
    "<div style=\"background-color: lightgreen; color: black; padding: 4px;\">\n",
    "    <h2>6. WEEKDAY()\n",
    "</h2> </div>"
   ]
  },
  {
   "cell_type": "markdown",
   "id": "15e02ee2",
   "metadata": {},
   "source": [
    "Returns the weekday number (1=Monday)\n",
    "ex."
   ]
  },
  {
   "cell_type": "markdown",
   "id": "1d636dfd",
   "metadata": {},
   "source": [
    "<div style=\"background-color: lightgreen; color: black; padding: 4px;\">\n",
    "    <h2>7. EDATE()\n",
    "</h2> </div>"
   ]
  },
  {
   "cell_type": "markdown",
   "id": "493945bb",
   "metadata": {},
   "source": []
  },
  {
   "cell_type": "markdown",
   "id": "e645893b",
   "metadata": {},
   "source": [
    "Adds 3 months to a date"
   ]
  },
  {
   "cell_type": "markdown",
   "id": "a7cd18e1",
   "metadata": {},
   "source": [
    "<div style=\"background-color: lightgreen; color: black; padding: 4px;\">\n",
    "    <h2>8. EOMONTH()\n",
    "</h2> </div>"
   ]
  },
  {
   "cell_type": "markdown",
   "metadata": {},
   "source": []
  },
  {
   "cell_type": "markdown",
   "id": "44f4e44f",
   "metadata": {},
   "source": [
    "Returns the last day of the month\n"
   ]
  },
  {
   "cell_type": "markdown",
   "id": "9215ffa5",
   "metadata": {},
   "source": []
  },
  {
   "cell_type": "markdown",
   "id": "5fe5c9d6",
   "metadata": {},
   "source": []
  },
  {
   "cell_type": "markdown",
   "id": "6fa63d9a",
   "metadata": {},
   "source": []
  },
  {
   "cell_type": "markdown",
   "id": "0e7085b8",
   "metadata": {},
   "source": []
  },
  {
   "cell_type": "markdown",
   "id": "b85de63d",
   "metadata": {},
   "source": [
    "<div style=\"background-color: lightgreen; color: black; padding: 4px;\">\n",
    "    <h2>2. NOW()\n",
    "</h2> </div>"
   ]
  },
  {
   "cell_type": "markdown",
   "metadata": {},
   "source": []
  },
  {
   "cell_type": "markdown",
   "id": "d840977d",
   "metadata": {},
   "source": []
  },
  {
   "cell_type": "markdown",
   "id": "12797374",
   "metadata": {},
   "source": []
  }
 ],
 "metadata": {
  "language_info": {
   "name": "python"
  }
 },
 "nbformat": 4,
 "nbformat_minor": 5
}
