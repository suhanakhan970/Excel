{
 "cells": [
  {
   "cell_type": "markdown",
   "id": "e5301f14",
   "metadata": {},
   "source": [
    "<div style=\"background-color: #002147; padding: 10px; text-align: center; color: white; font-size: 32px; font-family: 'Arial', sans-serif;\">\n",
    "    EXCEL<br>\n",
    "    <h3 style=\"text-align: center; color: white; font-size: 15px; font-family: 'Arial', sans-serif;\"></h3>\n",
    "</div>"
   ]
  },
  {
   "cell_type": "markdown",
   "id": "0d37aaba",
   "metadata": {},
   "source": [
    "<div style=\"background-color: lightgreen; color: black; padding: 4px;\">\n",
    "    <h2>  What is EXCEL?\n",
    "</h2> </div>"
   ]
  },
  {
   "cell_type": "markdown",
   "id": "40d9b265",
   "metadata": {},
   "source": [
    "Microsoft Excel is a spreadsheet program developed by Microsoft that allows users to organize, format, and calculate data. It's used for a wide variety of tasks, including data analysis, financial modeling, and creating charts and graphs. Excel is part of the Microsoft Office suite and is available for Windows, macOS, Android, and iOS. "
   ]
  },
  {
   "cell_type": "markdown",
   "id": "d416a0c7",
   "metadata": {},
   "source": [
    "<div style=\"background-color:  #002147; color: white; padding: 4px;\">\n",
    "    <h2>  main function of  EXCEL\n",
    "</h2> </div>"
   ]
  },
  {
   "cell_type": "markdown",
   "id": "1d07636a",
   "metadata": {},
   "source": [
    "<div style=\"background-color: lightgreen; color: black; padding: 4px;\">\n",
    "    <h2>1. SUM\n",
    "</h2> </div>"
   ]
  },
  {
   "cell_type": "markdown",
   "id": "8c2b855b",
   "metadata": {},
   "source": [
    "This function adds up the values in a selected range of cells. "
   ]
  },
  {
   "cell_type": "markdown",
   "id": "3c871f4d",
   "metadata": {},
   "source": [
    "<div style=\"background-color: lightgreen; color: black; padding: 4px;\">\n",
    "    <h2>2. Average\n",
    "</h2> </div>"
   ]
  },
  {
   "cell_type": "markdown",
   "id": "1ec0e6f6",
   "metadata": {},
   "source": []
  },
  {
   "cell_type": "markdown",
   "id": "a75cba39",
   "metadata": {},
   "source": [
    "This function calculates the average (mean) of the values in a selected range of cells. "
   ]
  },
  {
   "cell_type": "markdown",
   "metadata": {},
   "source": [
    "<div style=\"background-color: lightgreen; color: black; padding: 4px;\">\n",
    "    <h2>3. MAX\n",
    "</h2> </div>"
   ]
  },
  {
   "cell_type": "markdown",
   "id": "6bf51136",
   "metadata": {},
   "source": [
    "This function identifies the largest value within a selected range of cells"
   ]
  },
  {
   "cell_type": "markdown",
   "id": "e85fe6f8",
   "metadata": {},
   "source": [
    "This function identifies the smallest value within a selected range of cells"
   ]
  },
  {
   "cell_type": "markdown",
   "id": "54ac63b2",
   "metadata": {},
   "source": [
    "<div style=\"background-color: lightgreen; color: black; padding: 4px;\">\n",
    "    <h2>5. Count\n",
    "</h2> </div>"
   ]
  },
  {
   "cell_type": "markdown",
   "id": "cf58a60a",
   "metadata": {},
   "source": [
    "This function counts the number of cells within a specified range that contain numerical data. "
   ]
  },
  {
   "cell_type": "markdown",
   "id": "46cededa",
   "metadata": {},
   "source": [
    "<div style=\"background-color: lightblue; color: white; padding: 10px; text-align: center;\">\n",
    "    <h1>_________________________________END________________________________</h1></div>"
   ]
  },
  {
   "cell_type": "markdown",
   "id": "020065bb",
   "metadata": {},
   "source": [
    "<div style=\"background-color: #002147; color: #fff; padding: 30px; text-align: center;\">\n",
    "    <h1>THANK YOU!\n",
    "        \n",
    "</h1> </div>"
   ]
  },
  {
   "cell_type": "markdown",
   "id": "dd7fe488",
   "metadata": {},
   "source": []
  },
  {
   "cell_type": "code",
   "execution_count": null,
   "id": "f89cb4e6",
   "metadata": {},
   "outputs": [],
   "source": []
  },
  {
   "cell_type": "code",
   "execution_count": null,
   "id": "14285c70",
   "metadata": {},
   "outputs": [],
   "source": []
  },
  {
   "cell_type": "code",
   "execution_count": null,
   "id": "96799423",
   "metadata": {},
   "outputs": [],
   "source": []
  },
  {
   "cell_type": "code",
   "execution_count": null,
   "id": "a485993f",
   "metadata": {},
   "outputs": [],
   "source": []
  },
  {
   "cell_type": "code",
   "execution_count": null,
   "metadata": {},
   "outputs": [],
   "source": []
  }
 ],
 "metadata": {
  "kernelspec": {
   "display_name": "base",
   "language": "python",
   "name": "python3"
  },
  "language_info": {
   "name": "python",
   "version": "3.12.4"
  }
 },
 "nbformat": 4,
 "nbformat_minor": 5
}
